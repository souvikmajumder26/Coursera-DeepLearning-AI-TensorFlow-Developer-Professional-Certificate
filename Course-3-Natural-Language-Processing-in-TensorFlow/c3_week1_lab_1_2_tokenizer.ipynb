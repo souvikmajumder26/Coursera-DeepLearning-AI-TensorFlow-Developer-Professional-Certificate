{
  "nbformat": 4,
  "nbformat_minor": 0,
  "metadata": {
    "colab": {
      "name": "c3_week1_lab_1-2_tokenizer.ipynb",
      "provenance": [],
      "collapsed_sections": [
        "OrNeUYg2mDj0",
        "S-Y1EQF_mMqZ"
      ],
      "authorship_tag": "ABX9TyPEofD93tuGG6g9SyJwrZvM",
      "include_colab_link": true
    },
    "kernelspec": {
      "name": "python3",
      "display_name": "Python 3"
    },
    "language_info": {
      "name": "python"
    }
  },
  "cells": [
    {
      "cell_type": "markdown",
      "metadata": {
        "id": "view-in-github",
        "colab_type": "text"
      },
      "source": [
        "<a href=\"https://colab.research.google.com/github/souvikmajumder26/DeepLearning-AI-TensorFlow-Developer-Professional-Certificate/blob/main/Course-3-Natural-Language-Processing-in-TensorFlow/c3_week1_lab_1_2_tokenizer.ipynb\" target=\"_parent\"><img src=\"https://colab.research.google.com/assets/colab-badge.svg\" alt=\"Open In Colab\"/></a>"
      ]
    },
    {
      "cell_type": "markdown",
      "metadata": {
        "id": "OrNeUYg2mDj0"
      },
      "source": [
        "# [LAB 1] Tokenizer *WITHOUT* OOV (Out of Vocavulary) and Padding"
      ]
    },
    {
      "cell_type": "markdown",
      "metadata": {
        "id": "YoohuS7hfY72"
      },
      "source": [
        "**Tokenizer** does not consider punctuation or capitlization of words so that 'dog' and 'Dog!' are treated same."
      ]
    },
    {
      "cell_type": "code",
      "metadata": {
        "colab": {
          "base_uri": "https://localhost:8080/"
        },
        "id": "LUOQzdZWego7",
        "outputId": "cbdc9b4d-dcaa-48e5-91d8-d0b9512942c9"
      },
      "source": [
        "from tensorflow.keras.preprocessing.text import Tokenizer\n",
        "\n",
        "sentences = [\n",
        "             'i love my dog',\n",
        "             'I, love my cat',\n",
        "             'You love my dog!',\n",
        "             'Do you think my dog is amazing?'\n",
        "]\n",
        "\n",
        "tokenizer = Tokenizer(num_words = 100)\n",
        "tokenizer.fit_on_texts(sentences)\n",
        "\n",
        "word_index = tokenizer.word_index\n",
        "# creates a dict of words and their representative number\n",
        "# the numbers/TOKENS now represent those particular words\n",
        "\n",
        "print (word_index)\n"
      ],
      "execution_count": null,
      "outputs": [
        {
          "output_type": "stream",
          "name": "stdout",
          "text": [
            "{'my': 1, 'love': 2, 'dog': 3, 'i': 4, 'you': 5, 'cat': 6, 'do': 7, 'think': 8, 'is': 9, 'amazing': 10}\n"
          ]
        }
      ]
    },
    {
      "cell_type": "markdown",
      "metadata": {
        "id": "ckR-ZPsvh4CJ"
      },
      "source": [
        "**Text to Sequence** : Converting our training sentences into list of tokens/numbers that represent the words - to visualize the training data."
      ]
    },
    {
      "cell_type": "code",
      "metadata": {
        "colab": {
          "base_uri": "https://localhost:8080/"
        },
        "id": "SPouFfG1fVOJ",
        "outputId": "ed1e0b12-88ac-4f46-ed7c-9bcfcc9770cb"
      },
      "source": [
        "sequences = tokenizer.texts_to_sequences(sentences)\n",
        "# sentences converted into sequences of tokens that represent the words\n",
        "print (sequences)"
      ],
      "execution_count": null,
      "outputs": [
        {
          "output_type": "stream",
          "name": "stdout",
          "text": [
            "[[5, 3, 2, 4], [5, 3, 2, 7], [6, 3, 2, 4], [8, 6, 9, 2, 4, 10, 11]]\n"
          ]
        }
      ]
    },
    {
      "cell_type": "markdown",
      "metadata": {
        "id": "Hou22thHjppd"
      },
      "source": [
        "**Testing** on new sentences : coverting new sentences into sequences of tokens using the word:token dictionary formed previously using train data/sentences."
      ]
    },
    {
      "cell_type": "code",
      "metadata": {
        "colab": {
          "base_uri": "https://localhost:8080/"
        },
        "id": "DQm1NFq-i5Bl",
        "outputId": "b889ff15-9d45-4a40-cb09-347c8dc76e37"
      },
      "source": [
        "test_data = [\n",
        "             'i really love my dog',\n",
        "             'My dog loves amazing food'\n",
        "]\n",
        "\n",
        "test_seq = tokenizer.texts_to_sequences(test_data)\n",
        "# new sentences converted into sequences of tokens but the words that were not present in the training set and thus not in the word_index dictionary will be lost\n",
        "print (test_seq)"
      ],
      "execution_count": null,
      "outputs": [
        {
          "output_type": "stream",
          "name": "stdout",
          "text": [
            "[[5, 1, 3, 2, 4], [2, 4, 1, 11, 1]]\n"
          ]
        }
      ]
    },
    {
      "cell_type": "markdown",
      "metadata": {
        "id": "2DmcLm_Kku3g"
      },
      "source": [
        "'loves' and 'food' are lost as their respective tokens could not be found."
      ]
    },
    {
      "cell_type": "markdown",
      "metadata": {
        "id": "S-Y1EQF_mMqZ"
      },
      "source": [
        "# [LAB 2] Tokenizer *WITH* OOV (Out of Vocabulary) and Padding"
      ]
    },
    {
      "cell_type": "code",
      "metadata": {
        "colab": {
          "base_uri": "https://localhost:8080/"
        },
        "id": "wdOT_MkcmSTD",
        "outputId": "d69c7be7-6c20-4fe8-cf16-eddd37dd8a97"
      },
      "source": [
        "from tensorflow.keras.preprocessing.text import Tokenizer\n",
        "from tensorflow.keras.preprocessing.sequence import pad_sequences\n",
        "\n",
        "sentences = [\n",
        "             'i love my dog',\n",
        "             'I, love my cat',\n",
        "             'You love my dog!',\n",
        "             'Do you think my dog is amazing?'\n",
        "]\n",
        "\n",
        "tokenizer = Tokenizer(num_words = 100, oov_token = \"<OOV>\")\n",
        "tokenizer.fit_on_texts(sentences)\n",
        "\n",
        "word_index = tokenizer.word_index\n",
        "# creates a dict of words and their representative number\n",
        "# the numbers/TOKENS now represent those particular words\n",
        "print (word_index, '\\n')\n",
        "\n",
        "sequences = tokenizer.texts_to_sequences(sentences)\n",
        "# sentences converted into sequences of tokens that represent the words\n",
        "print (sequences, '\\n')\n",
        "\n",
        "padded_train_seq_1 = pad_sequences(sequences, padding = 'post', maxlen = 8)\n",
        "# produces a matrix  # default padding is pre, and default maxlen is the max length among all sentences\n",
        "print (padded_train_seq_1, '\\n')\n",
        "\n",
        "padded_train_seq_2 = pad_sequences(sequences, padding = 'post', truncating = 'post', maxlen = 5)\n",
        "# produces a matrix  # default padding is pre, and default maxlen is the max length among all sentences which is \"7\" here\n",
        "print (padded_train_seq_2, '\\n')\n",
        "\n",
        "test_data = [\n",
        "             'i really love my dog',\n",
        "             'My dog loves amazing food'\n",
        "]\n",
        "\n",
        "test_seq = tokenizer.texts_to_sequences(test_data)\n",
        "# new sentences converted into sequences of tokens but the words that were not present in the training set and thus not in the word_index dictionary will be lost\n",
        "print (test_seq, '\\n')\n",
        "\n",
        "padded_test_seq_1 = pad_sequences(test_seq, padding = 'post', truncating = 'post', maxlen = 10)\n",
        "print (padded_test_seq_1, '\\n')\n",
        "\n",
        "padded_test_seq_2 = pad_sequences(test_seq, padding = 'post', truncating = 'post', maxlen = 3)\n",
        "print (padded_test_seq_2)\n"
      ],
      "execution_count": null,
      "outputs": [
        {
          "output_type": "stream",
          "name": "stdout",
          "text": [
            "{'<OOV>': 1, 'my': 2, 'love': 3, 'dog': 4, 'i': 5, 'you': 6, 'cat': 7, 'do': 8, 'think': 9, 'is': 10, 'amazing': 11} \n",
            "\n",
            "[[5, 3, 2, 4], [5, 3, 2, 7], [6, 3, 2, 4], [8, 6, 9, 2, 4, 10, 11]] \n",
            "\n",
            "[[ 5  3  2  4  0  0  0  0]\n",
            " [ 5  3  2  7  0  0  0  0]\n",
            " [ 6  3  2  4  0  0  0  0]\n",
            " [ 8  6  9  2  4 10 11  0]] \n",
            "\n",
            "[[5 3 2 4 0]\n",
            " [5 3 2 7 0]\n",
            " [6 3 2 4 0]\n",
            " [8 6 9 2 4]] \n",
            "\n",
            "[[5, 1, 3, 2, 4], [2, 4, 1, 11, 1]] \n",
            "\n",
            "[[ 5  1  3  2  4  0  0  0  0  0]\n",
            " [ 2  4  1 11  1  0  0  0  0  0]] \n",
            "\n",
            "[[5 1 3]\n",
            " [2 4 1]]\n"
          ]
        }
      ]
    },
    {
      "cell_type": "code",
      "metadata": {
        "id": "wb-nexDGnp5e"
      },
      "source": [
        ""
      ],
      "execution_count": null,
      "outputs": []
    }
  ]
}