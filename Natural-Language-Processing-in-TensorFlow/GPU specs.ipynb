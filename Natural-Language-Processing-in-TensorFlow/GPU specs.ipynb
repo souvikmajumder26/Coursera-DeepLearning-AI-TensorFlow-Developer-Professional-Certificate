{
  "nbformat": 4,
  "nbformat_minor": 0,
  "metadata": {
    "colab": {
      "name": "GPU specs.ipynb",
      "provenance": [],
      "collapsed_sections": [],
      "authorship_tag": "ABX9TyMW5FbCStENBQoNbToJGpTl"
    },
    "kernelspec": {
      "name": "python3",
      "display_name": "Python 3"
    },
    "accelerator": "GPU"
  },
  "cells": [
    {
      "cell_type": "code",
      "metadata": {
        "id": "oB-kILQHaPYJ"
      },
      "source": [
        "# huha ami ekhane likhbo"
      ],
      "execution_count": 4,
      "outputs": []
    },
    {
      "cell_type": "code",
      "metadata": {
        "id": "pnU_zqXuc7e8"
      },
      "source": [
        "# huha ekhane ami likhbo"
      ],
      "execution_count": 3,
      "outputs": []
    },
    {
      "cell_type": "code",
      "metadata": {
        "id": "AIBikRrYYi0d"
      },
      "source": [
        "# just checking"
      ],
      "execution_count": 1,
      "outputs": []
    }
  ]
}